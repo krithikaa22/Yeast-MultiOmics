{
 "cells": [
  {
   "cell_type": "code",
   "execution_count": 1,
   "metadata": {},
   "outputs": [],
   "source": [
    "import pandas as pd\n",
    "import numpy as np\n",
    "import random"
   ]
  },
  {
   "cell_type": "code",
   "execution_count": 2,
   "metadata": {},
   "outputs": [],
   "source": [
    "random.seed(10)"
   ]
  },
  {
   "cell_type": "code",
   "execution_count": 3,
   "metadata": {},
   "outputs": [],
   "source": [
    "def filter_ko(gr_measured_ML, y, a_per, b_per):\n",
    "    #classify gr\n",
    "\n",
    "    a = np.percentile(gr_measured_ML['0'], a_per)\n",
    "    b = np.percentile(gr_measured_ML['0'], b_per)\n",
    "\n",
    "    y_t = []\n",
    "    for i in gr_measured_ML['0']:\n",
    "        if i < a:\n",
    "            y_t.append(0)\n",
    "        elif i>a and i<b:\n",
    "            y_t.append(1)\n",
    "        else:\n",
    "            y_t.append(2)\n",
    "\n",
    "    gr_measured_ML['class'] = y_t\n",
    "\n",
    "    a = np.percentile(y['SM'], a_per)\n",
    "    b = np.percentile(y['SM'], b_per)\n",
    "\n",
    "    y_p = []\n",
    "    for i in y['SM']:\n",
    "        if i < a:\n",
    "            y_p.append(0)\n",
    "        elif i>a and i<b:\n",
    "            y_p.append(1)\n",
    "        else:\n",
    "            y_p.append(2)\n",
    "\n",
    "    y['class'] = y_p\n",
    "\n",
    "    #filter medium gr KOs\n",
    "\n",
    "    gr_measured_ML = gr_measured_ML[gr_measured_ML['class'] != 1]\n",
    "    y = y[y['class'] != 1]\n",
    "\n",
    "    return [gr_measured_ML, y]"
   ]
  },
  {
   "cell_type": "code",
   "execution_count": 4,
   "metadata": {},
   "outputs": [],
   "source": [
    "def generate_combined_dataset(t, p, fluxes_t, fluxes_p):\n",
    "\n",
    "    X = pd.concat([t, fluxes_t, p, fluxes_p], axis=1)\n",
    "    X.columns = X.columns.astype(str)\n",
    "    # X.dropna(inplace=True)\n",
    "\n",
    "    return X"
   ]
  },
  {
   "cell_type": "code",
   "execution_count": 7,
   "metadata": {},
   "outputs": [],
   "source": [
    "t = pd.read_csv('../data/compare_transcriptome.csv')\n",
    "p = pd.read_csv('../data/compare_proteome.csv')\n",
    "\n",
    "t.index = t['Unnamed: 0']\n",
    "p.index = p['Unnamed: 0']\n",
    "p.dropna(inplace=True)\n",
    "t = t.iloc[:, 1:]\n",
    "p = p.iloc[:, 2:]\n",
    "\n",
    "gr_measured_ML = pd.read_csv('../data/compare_transcriptome_measured_gr.csv')\n",
    "gr_measured_ML.index = t.index\n",
    "\n",
    "y = pd.read_csv('../data/compare_measured_gr.csv')\n",
    "y.index = y['ORF PROT']\n",
    "\n",
    "fluxes_p = pd.read_csv('../fluxomics/fluxes/Fluxes_glpk_seed1.csv', header=None)\n",
    "fluxes_p = fluxes_p.T\n",
    "fluxes_p.index = p.index \n",
    "\n",
    "fluxes_t = pd.read_csv('../fluxomics/fluxes/Fluxes_t_glpk_seed1.csv', header=None)\n",
    "fluxes_t  = fluxes_t.T\n",
    "fluxes_t.index = t.index\n",
    "\n",
    "fluxes_p = (fluxes_p - fluxes_p.min()) / (fluxes_p.max() - fluxes_p.min())\n",
    "\n",
    "fluxes_t = (fluxes_t - fluxes_t.min()) / (fluxes_t.max() - fluxes_t.min())\n",
    "\n",
    "    #remove the NaN columns from the normalized fluxomics dataframe\n",
    "fluxes_p.dropna(axis=1, inplace=True)\n",
    "fluxes_t.dropna(axis=1, inplace=True)"
   ]
  },
  {
   "cell_type": "markdown",
   "metadata": {},
   "source": [
    "10-90th percentile split"
   ]
  },
  {
   "cell_type": "code",
   "execution_count": 12,
   "metadata": {},
   "outputs": [],
   "source": [
    "[gr_measured_ML, y] = filter_ko(gr_measured_ML, y, 10, 90)\n",
    "\n",
    "X = generate_combined_dataset(t, p, fluxes_t, fluxes_p)\n",
    "\n",
    "X_t = X.filter(items=gr_measured_ML.index, axis=0)\n",
    "X_p = X.filter(items=y.index, axis=0)\n",
    "\n",
    "pd.DataFrame(X_t.index).to_csv(\"10-90_t_index.csv\")\n",
    "pd.DataFrame(X_p.index).to_csv(\"10-90_p_index.csv\")"
   ]
  },
  {
   "cell_type": "markdown",
   "metadata": {},
   "source": [
    "20-80th percentile split"
   ]
  },
  {
   "cell_type": "code",
   "execution_count": 13,
   "metadata": {},
   "outputs": [],
   "source": [
    "[gr_measured_ML, y] = filter_ko(gr_measured_ML, y, 20, 80)\n",
    "\n",
    "X = generate_combined_dataset(t, p, fluxes_t, fluxes_p)\n",
    "\n",
    "X_t = X.filter(items=gr_measured_ML.index, axis=0)\n",
    "X_p = X.filter(items=y.index, axis=0)\n",
    "\n",
    "pd.DataFrame(X_t.index).to_csv(\"20-80_t_index.csv\")\n",
    "pd.DataFrame(X_p.index).to_csv(\"20-80_p_index.csv\")"
   ]
  },
  {
   "cell_type": "markdown",
   "metadata": {},
   "source": [
    "30-80th percentile split"
   ]
  },
  {
   "cell_type": "code",
   "execution_count": 14,
   "metadata": {},
   "outputs": [],
   "source": [
    "[gr_measured_ML, y] = filter_ko(gr_measured_ML, y, 30, 70)\n",
    "\n",
    "X = generate_combined_dataset(t, p, fluxes_t, fluxes_p)\n",
    "\n",
    "X_t = X.filter(items=gr_measured_ML.index, axis=0)\n",
    "X_p = X.filter(items=y.index, axis=0)\n",
    "\n",
    "pd.DataFrame(X_t.index).to_csv(\"30-70_t_index.csv\")\n",
    "pd.DataFrame(X_p.index).to_csv(\"30-70_p_index.csv\")"
   ]
  },
  {
   "cell_type": "markdown",
   "metadata": {},
   "source": [
    "40-60th percentile split"
   ]
  },
  {
   "cell_type": "code",
   "execution_count": 15,
   "metadata": {},
   "outputs": [],
   "source": [
    "[gr_measured_ML, y] = filter_ko(gr_measured_ML, y, 40, 60)\n",
    "\n",
    "X = generate_combined_dataset(t, p, fluxes_t, fluxes_p)\n",
    "\n",
    "X_t = X.filter(items=gr_measured_ML.index, axis=0)\n",
    "X_p = X.filter(items=y.index, axis=0)\n",
    "\n",
    "pd.DataFrame(X_t.index).to_csv(\"40-60_t_index.csv\")\n",
    "pd.DataFrame(X_p.index).to_csv(\"40-60_p_index.csv\")"
   ]
  },
  {
   "cell_type": "markdown",
   "metadata": {},
   "source": [
    "50-50th percentile split"
   ]
  },
  {
   "cell_type": "code",
   "execution_count": 16,
   "metadata": {},
   "outputs": [],
   "source": [
    "[gr_measured_ML, y] = filter_ko(gr_measured_ML, y, 50, 50)\n",
    "\n",
    "X = generate_combined_dataset(t, p, fluxes_t, fluxes_p)\n",
    "\n",
    "X_t = X.filter(items=gr_measured_ML.index, axis=0)\n",
    "X_p = X.filter(items=y.index, axis=0)\n",
    "\n",
    "pd.DataFrame(X_t.index).to_csv(\"50-50_t_index.csv\")\n",
    "pd.DataFrame(X_p.index).to_csv(\"50-50_p_index.csv\")"
   ]
  }
 ],
 "metadata": {
  "kernelspec": {
   "display_name": "Python 3",
   "language": "python",
   "name": "python3"
  },
  "language_info": {
   "codemirror_mode": {
    "name": "ipython",
    "version": 3
   },
   "file_extension": ".py",
   "mimetype": "text/x-python",
   "name": "python",
   "nbconvert_exporter": "python",
   "pygments_lexer": "ipython3",
   "version": "3.11.5"
  }
 },
 "nbformat": 4,
 "nbformat_minor": 2
}
